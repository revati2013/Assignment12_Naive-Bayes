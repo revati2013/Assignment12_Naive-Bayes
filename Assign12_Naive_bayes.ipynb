{
  "nbformat": 4,
  "nbformat_minor": 0,
  "metadata": {
    "colab": {
      "name": "Assign12_Naive-bayes.ipynb",
      "provenance": [],
      "collapsed_sections": [],
      "authorship_tag": "ABX9TyPTWRFjHwVigA89DfJHA3PV",
      "include_colab_link": true
    },
    "kernelspec": {
      "name": "python3",
      "display_name": "Python 3"
    },
    "language_info": {
      "name": "python"
    }
  },
  "cells": [
    {
      "cell_type": "markdown",
      "metadata": {
        "id": "view-in-github",
        "colab_type": "text"
      },
      "source": [
        "<a href=\"https://colab.research.google.com/github/revati2013/Assignment12_Naive-Bayes/blob/main/Assign12_Naive_bayes.ipynb\" target=\"_parent\"><img src=\"https://colab.research.google.com/assets/colab-badge.svg\" alt=\"Open In Colab\"/></a>"
      ]
    },
    {
      "cell_type": "code",
      "execution_count": null,
      "metadata": {
        "id": "-4YBTGss7F7x"
      },
      "outputs": [],
      "source": [
        "import numpy as np\n",
        "import pandas as pd\n",
        "import matplotlib.pyplot as plt\n",
        "import seaborn as sns\n",
        "\n",
        "#Naive Bayes\n",
        "from sklearn.naive_bayes import MultinomialNB as MB\n",
        "from sklearn.naive_bayes import GaussianNB as GB\n",
        "\n",
        "%matplotlib inline"
      ]
    },
    {
      "cell_type": "code",
      "source": [
        "train = pd.read_csv('SalaryData_Train.csv')\n",
        "test = pd.read_csv('SalaryData_Test.csv')"
      ],
      "metadata": {
        "id": "_WJ8LLLFiJrs"
      },
      "execution_count": null,
      "outputs": []
    },
    {
      "cell_type": "markdown",
      "source": [
        "#EDA & Data visualization\n",
        "\n",
        "\n"
      ],
      "metadata": {
        "id": "mOPC-Lbkp80v"
      }
    },
    {
      "cell_type": "code",
      "source": [
        "#copying the data\n",
        "df1 = train.copy()\n",
        "df2 = test.copy()"
      ],
      "metadata": {
        "id": "XZEHkMwmixLK"
      },
      "execution_count": null,
      "outputs": []
    },
    {
      "cell_type": "code",
      "source": [
        "df1.head()"
      ],
      "metadata": {
        "id": "HONNorsei1U_"
      },
      "execution_count": null,
      "outputs": []
    },
    {
      "cell_type": "code",
      "source": [
        "df2.head()"
      ],
      "metadata": {
        "id": "o2gavm9_i5IJ"
      },
      "execution_count": null,
      "outputs": []
    },
    {
      "cell_type": "code",
      "source": [
        "df1.isnull().sum()"
      ],
      "metadata": {
        "id": "jzcV9CEli6ea"
      },
      "execution_count": null,
      "outputs": []
    },
    {
      "cell_type": "code",
      "source": [
        "df2.isnull().sum()"
      ],
      "metadata": {
        "id": "otD7oSkVi9qr"
      },
      "execution_count": null,
      "outputs": []
    },
    {
      "cell_type": "code",
      "source": [
        "df1.info()"
      ],
      "metadata": {
        "id": "pTr0smamjGyV"
      },
      "execution_count": null,
      "outputs": []
    },
    {
      "cell_type": "code",
      "source": [
        "df2.info()"
      ],
      "metadata": {
        "id": "QqAfcGgujIHQ"
      },
      "execution_count": null,
      "outputs": []
    },
    {
      "cell_type": "code",
      "source": [
        "plt.figure(figsize=(12,5))\n",
        "df1.workclass.value_counts().plot.bar();"
      ],
      "metadata": {
        "id": "Pzfc0-qZjW02"
      },
      "execution_count": null,
      "outputs": []
    },
    {
      "cell_type": "code",
      "source": [
        "#maritial status\n",
        "plt.figure(figsize=(12,5))\n",
        "df1.maritalstatus.value_counts().plot.bar();"
      ],
      "metadata": {
        "id": "QQmcV2wzjerg"
      },
      "execution_count": null,
      "outputs": []
    },
    {
      "cell_type": "code",
      "source": [
        "#occupation\n",
        "plt.figure(figsize=(12,5))\n",
        "df1.occupation.value_counts().plot.bar();\n"
      ],
      "metadata": {
        "id": "Cyr2AUnqjqI3"
      },
      "execution_count": null,
      "outputs": []
    },
    {
      "cell_type": "code",
      "source": [
        "#relationship\n",
        "plt.figure(figsize=(12,5))\n",
        "df1.relationship.value_counts().plot.bar();"
      ],
      "metadata": {
        "id": "lySs-nevjuzT"
      },
      "execution_count": null,
      "outputs": []
    },
    {
      "cell_type": "code",
      "source": [
        "#race\n",
        "plt.figure(figsize=(12,5))\n",
        "df1.race.value_counts().plot.bar();"
      ],
      "metadata": {
        "id": "nZDE72OzkTEv"
      },
      "execution_count": null,
      "outputs": []
    },
    {
      "cell_type": "code",
      "source": [
        "#sex\n",
        "plt.figure(figsize=(12,5))\n",
        "df1.sex.value_counts().plot.bar();"
      ],
      "metadata": {
        "id": "Eu-Ust4QkXQq"
      },
      "execution_count": null,
      "outputs": []
    },
    {
      "cell_type": "code",
      "source": [
        "#salary\n",
        "plt.figure(figsize=(12,5))\n",
        "df1.Salary.value_counts().plot.bar();"
      ],
      "metadata": {
        "id": "YmzBOO5TkcNh"
      },
      "execution_count": null,
      "outputs": []
    },
    {
      "cell_type": "markdown",
      "source": [
        "#One Hot Encoding\n",
        "converting non numeric data into numeric using one hot encoder"
      ],
      "metadata": {
        "id": "KGaV8t3CkmW8"
      }
    },
    {
      "cell_type": "code",
      "source": [
        "tr1 = df1.iloc[:,0:13]\n",
        "\n",
        "tr1 = pd.get_dummies(tr1)\n",
        "tr1"
      ],
      "metadata": {
        "id": "keuPq739pYPv"
      },
      "execution_count": null,
      "outputs": []
    },
    {
      "cell_type": "code",
      "source": [
        "te1 = test.iloc[:,0:13]\n",
        "\n",
        "te1 = pd.get_dummies(te1)\n",
        "te1"
      ],
      "metadata": {
        "id": "2aMDtGJgpYCO"
      },
      "execution_count": null,
      "outputs": []
    },
    {
      "cell_type": "code",
      "source": [
        ""
      ],
      "metadata": {
        "id": "jzCUBgUjpX1b"
      },
      "execution_count": null,
      "outputs": []
    },
    {
      "cell_type": "markdown",
      "source": [
        "Concatination"
      ],
      "metadata": {
        "id": "ed2nFSmJlKJ6"
      }
    },
    {
      "cell_type": "code",
      "source": [
        "#train data concat\n",
        "finaltrain = pd.concat([tr1, df1['Salary']],axis=1)\n",
        "finaltrain"
      ],
      "metadata": {
        "id": "aHcB9QtLpiZT"
      },
      "execution_count": null,
      "outputs": []
    },
    {
      "cell_type": "code",
      "source": [
        "#test data concat\n",
        "finaltest = pd.concat([te1, df2['Salary']],axis=1)\n",
        "finaltest"
      ],
      "metadata": {
        "id": "v1DVvWNBpiGz"
      },
      "execution_count": null,
      "outputs": []
    },
    {
      "cell_type": "markdown",
      "source": [
        "#Dividing Finaltrain and Finaltest Data"
      ],
      "metadata": {
        "id": "1FTz4y-JlYNi"
      }
    },
    {
      "cell_type": "code",
      "source": [
        "# Finaltrain data\n",
        "X = finaltrain.values[:,0:102]\n",
        "Y = finaltrain.values[:,102]\n",
        "\n",
        "#Finaltest data\n",
        "x = finaltest.values[:,0:102]\n",
        "y = finaltest.values[:,102]"
      ],
      "metadata": {
        "id": "btHgH5SMprCR"
      },
      "execution_count": null,
      "outputs": []
    },
    {
      "cell_type": "markdown",
      "source": [
        "#Naive Bayes Model\n",
        "Multinomial Naive Bayes"
      ],
      "metadata": {
        "id": "5fmM_0EAljQd"
      }
    },
    {
      "cell_type": "code",
      "source": [
        "classifier_mb = MB()\n",
        "classifier_mb.fit(x,y)\n",
        "train_pred_m = classifier_mb.predict(X)\n",
        "accuracy_train_m = np.mean(train_pred_m==Y)\n",
        "test_pred_m = classifier_mb.predict(x)\n",
        "accuracy_test_m = np.mean(test_pred_m==y)\n",
        "print('Training accuracy is:',accuracy_train_m,'\\n','Testing accuracy is:',accuracy_test_m)"
      ],
      "metadata": {
        "id": "ITyjteZtpyxq"
      },
      "execution_count": null,
      "outputs": []
    },
    {
      "cell_type": "markdown",
      "source": [
        "#Gaussian Naive Bayes"
      ],
      "metadata": {
        "id": "uqPiRV2Yq_ZY"
      }
    },
    {
      "cell_type": "code",
      "source": [
        "\n",
        "classifier_gb = GB()\n",
        "classifier_gb.fit(x,y) \n",
        "# we need to convert tfidf into array format which is compatible for gaussian naive bayes\n",
        "train_pred_g = classifier_gb.predict(X)\n",
        "accuracy_train_g = np.mean(train_pred_g==Y)\n",
        "test_pred_g = classifier_gb.predict(x)\n",
        "accuracy_test_g = np.mean(test_pred_g==y)\n",
        "print('Training accuracy is:',accuracy_train_g,'\\n','Testing accuracy is:',accuracy_test_g)"
      ],
      "metadata": {
        "id": "XVXSilyVp57b"
      },
      "execution_count": null,
      "outputs": []
    },
    {
      "cell_type": "code",
      "source": [
        ""
      ],
      "metadata": {
        "id": "rsZRVaSurB4e"
      },
      "execution_count": null,
      "outputs": []
    }
  ]
}